{
  "nbformat": 4,
  "nbformat_minor": 0,
  "metadata": {
    "colab": {
      "provenance": [],
      "include_colab_link": true
    },
    "kernelspec": {
      "name": "python3",
      "display_name": "Python 3"
    },
    "language_info": {
      "name": "python"
    }
  },
  "cells": [
    {
      "cell_type": "markdown",
      "metadata": {
        "id": "view-in-github",
        "colab_type": "text"
      },
      "source": [
        "<a href=\"https://colab.research.google.com/github/Achta00/Chatbot/blob/main/Modele_word2vec.ipynb\" target=\"_parent\"><img src=\"https://colab.research.google.com/assets/colab-badge.svg\" alt=\"Open In Colab\"/></a>"
      ]
    },
    {
      "cell_type": "markdown",
      "source": [
        "# **Modele Word2vec**\n",
        "\n",
        "Ce code est un système de question réponse reposant sur deux méthodes. \n",
        "Dans la première méthode, nous utilisons la similarité entre la question et le texte pour obtenir une réponse.\n",
        "Dans la seconde nous utilisons un modèle word2vec déjà pré-entrainé. \n",
        "\n",
        "Selon vous, qui aura le meilleur résultat? "
      ],
      "metadata": {
        "id": "2pgKFv687M38"
      }
    },
    {
      "cell_type": "markdown",
      "source": [
        "Question Answering System Using Word2Vec Embedding Technique\n",
        "Nous avons testé le code suivant qui vise à extraire un fichier PDF ensuite convertir les mots de ce PDF en vecteurs  à l'aide de la méthode Word2Vec."
      ],
      "metadata": {
        "id": "-BO0I0RkPm2W"
      }
    },
    {
      "cell_type": "code",
      "execution_count": null,
      "metadata": {
        "id": "SWMdd6RA7Kda",
        "colab": {
          "base_uri": "https://localhost:8080/"
        },
        "outputId": "51ea86a3-dac8-47ec-da31-14cb852ac637"
      },
      "outputs": [
        {
          "output_type": "stream",
          "name": "stdout",
          "text": [
            "Mounted at /content/gdrive\n"
          ]
        }
      ],
      "source": [
        "# Acces du document au drive \n",
        "from google.colab import drive\n",
        "drive.mount('/content/gdrive')"
      ]
    },
    {
      "cell_type": "code",
      "source": [
        "import os \n",
        "os.chdir('gdrive/My Drive/Colab Notebooks')"
      ],
      "metadata": {
        "id": "L4tFtppa7R0d"
      },
      "execution_count": null,
      "outputs": []
    },
    {
      "cell_type": "markdown",
      "source": [
        "Installer PDFPlumber\n",
        "c'est un package Python pour extraire du texte d'un PDF "
      ],
      "metadata": {
        "id": "-O0kpyUmTuHD"
      }
    },
    {
      "cell_type": "code",
      "source": [
        "pip install pdfplumber"
      ],
      "metadata": {
        "id": "El9LNOdH7R20",
        "colab": {
          "base_uri": "https://localhost:8080/",
          "height": 537
        },
        "outputId": "a406740a-1eb6-49af-fda0-dc4a3bd28d03"
      },
      "execution_count": null,
      "outputs": [
        {
          "output_type": "stream",
          "name": "stdout",
          "text": [
            "Looking in indexes: https://pypi.org/simple, https://us-python.pkg.dev/colab-wheels/public/simple/\n",
            "Collecting pdfplumber\n",
            "  Downloading pdfplumber-0.7.5-py3-none-any.whl (40 kB)\n",
            "\u001b[K     |████████████████████████████████| 40 kB 3.5 MB/s \n",
            "\u001b[?25hCollecting Pillow>=9.1\n",
            "  Downloading Pillow-9.3.0-cp37-cp37m-manylinux_2_17_x86_64.manylinux2014_x86_64.whl (3.2 MB)\n",
            "\u001b[K     |████████████████████████████████| 3.2 MB 6.1 MB/s \n",
            "\u001b[?25hCollecting pdfminer.six==20220524\n",
            "  Downloading pdfminer.six-20220524-py3-none-any.whl (5.6 MB)\n",
            "\u001b[K     |████████████████████████████████| 5.6 MB 40.5 MB/s \n",
            "\u001b[?25hCollecting Wand>=0.6.10\n",
            "  Downloading Wand-0.6.10-py2.py3-none-any.whl (142 kB)\n",
            "\u001b[K     |████████████████████████████████| 142 kB 46.3 MB/s \n",
            "\u001b[?25hRequirement already satisfied: charset-normalizer>=2.0.0 in /usr/local/lib/python3.7/dist-packages (from pdfminer.six==20220524->pdfplumber) (2.1.1)\n",
            "Collecting cryptography>=36.0.0\n",
            "  Downloading cryptography-38.0.3-cp36-abi3-manylinux_2_24_x86_64.whl (4.1 MB)\n",
            "\u001b[K     |████████████████████████████████| 4.1 MB 23.6 MB/s \n",
            "\u001b[?25hRequirement already satisfied: cffi>=1.12 in /usr/local/lib/python3.7/dist-packages (from cryptography>=36.0.0->pdfminer.six==20220524->pdfplumber) (1.15.1)\n",
            "Requirement already satisfied: pycparser in /usr/local/lib/python3.7/dist-packages (from cffi>=1.12->cryptography>=36.0.0->pdfminer.six==20220524->pdfplumber) (2.21)\n",
            "Installing collected packages: cryptography, Wand, Pillow, pdfminer.six, pdfplumber\n",
            "  Attempting uninstall: Pillow\n",
            "    Found existing installation: Pillow 7.1.2\n",
            "    Uninstalling Pillow-7.1.2:\n",
            "      Successfully uninstalled Pillow-7.1.2\n",
            "Successfully installed Pillow-9.3.0 Wand-0.6.10 cryptography-38.0.3 pdfminer.six-20220524 pdfplumber-0.7.5\n"
          ]
        },
        {
          "output_type": "display_data",
          "data": {
            "application/vnd.colab-display-data+json": {
              "pip_warning": {
                "packages": [
                  "PIL"
                ]
              }
            }
          },
          "metadata": {}
        }
      ]
    },
    {
      "cell_type": "markdown",
      "source": [
        "Pour commencer à travailler avec un PDF, nous avons appelé pdfplumber.open(x), où x peut être un : chemin vers le fichier PDF.\n",
        "La méthode open renvoie une instance de la classe pdfplumber.PDF et on la stocke sans une variable pdf"
      ],
      "metadata": {
        "id": "lHkg58qHWNFr"
      }
    },
    {
      "cell_type": "code",
      "source": [
        "# Creation d'une variable pdf_txt qui contient le texte du pdf\n",
        "import pdfplumber\n",
        "pdf = pdfplumber.open('lic_policy.pdf')\n",
        "page = pdf.pages[0]\n",
        "page1 = pdf.pages[1]\n",
        "pdf_txt = page.extract_text() + page1.extract_text()\n",
        "pdf.close()"
      ],
      "metadata": {
        "id": "aL6-mwLU7R5d"
      },
      "execution_count": null,
      "outputs": []
    },
    {
      "cell_type": "markdown",
      "source": [
        "Installer le package de données NLTK qui comprend un tokenizer Punkt.\n",
        "Ce tokenizer divise le texte en une liste des phrases en utilisant un algorithme non supervisé pour créer un modèle pour les mots d'abréviation, les collocations et les mots."
      ],
      "metadata": {
        "id": "ctkhzaNHZgEp"
      }
    },
    {
      "cell_type": "code",
      "source": [
        "pip install nltk"
      ],
      "metadata": {
        "colab": {
          "base_uri": "https://localhost:8080/"
        },
        "id": "BVrOGa4r7R7N",
        "outputId": "cde21f7c-62b7-4a8e-a831-cc103de0b169"
      },
      "execution_count": null,
      "outputs": [
        {
          "output_type": "stream",
          "name": "stdout",
          "text": [
            "Looking in indexes: https://pypi.org/simple, https://us-python.pkg.dev/colab-wheels/public/simple/\n",
            "Requirement already satisfied: nltk in /usr/local/lib/python3.7/dist-packages (3.7)\n",
            "Requirement already satisfied: click in /usr/local/lib/python3.7/dist-packages (from nltk) (7.1.2)\n",
            "Requirement already satisfied: tqdm in /usr/local/lib/python3.7/dist-packages (from nltk) (4.64.1)\n",
            "Requirement already satisfied: regex>=2021.8.3 in /usr/local/lib/python3.7/dist-packages (from nltk) (2022.6.2)\n",
            "Requirement already satisfied: joblib in /usr/local/lib/python3.7/dist-packages (from nltk) (1.2.0)\n"
          ]
        }
      ]
    },
    {
      "cell_type": "markdown",
      "source": [
        "D'abord nous avons affiché le texte étudié concernant un Chatbot.\n",
        "pdf_txt:est la chaîne fournie en entrée( ou le texte souhaité a étudier, nous avons commencé par un petit paragraphe pour tester le code).\n",
        "la méthode sent_tokenize() renvoie une liste de chaînes (les phrases du texte) qui peuvent être stockées sous forme de tokens.(jalons"
      ],
      "metadata": {
        "id": "x-0X7MefdOYa"
      }
    },
    {
      "cell_type": "code",
      "source": [
        "pdf_txt = \"\"\"A chatbot is a computer program that simulates human conversation through voice commands or text chats or both. Chatbot, short for chatterbot, is an artificial intelligence (AI) feature that can be embedded and used through any major messaging application.\n",
        "\n",
        "There are a number of synonyms for chatbot, including \"talkbot,\" \"bot,\" \"IM bot,\" \"interactive agent\" or \"artificial conversation entity.\"  The progressive advance of technology has seen an increase in businesses moving from traditional to digital platforms to transact with consumers. Convenience through technology is being carried out by businesses by implementing AI techniques on their digital platforms. One AI technique that is growing in its application and use is chatbots. Some examples of chatbot technology are virtual assistants like Amazon's Alexa and Google Assistant, and messaging apps, such as WeChat and Facebook's Messenger.\n",
        "\n",
        "A chatbot is an automated program that interacts with customers as a human would and costs little to nothing to engage with. Chatbots attend to customers at all times of the day and week and are not limited by time or a physical location. This makes its implementation appealing to a lot of businesses that may not have the manpower or financial resources to keep employees working around the clock. \n",
        "Chatbots are convenient for providing customer service and support 24 hours a day, 7 days a week. They also free up phone lines and are far less expensive over the long run than hiring people to perform support. Using AI and natural language processing, chatbots are becoming better at understanding what customers want and providing the help they need. Companies also like chatbots because they can collect data about customer queries, response times, satisfaction, and so on.\n",
        "\n",
        "Chatbots, however, are still limited. Even with natural language processing, they may not fully comprehend a customer's input and may provide incoherent answers. Many chatbots are also limited in the scope of queries that they are able to respond to. This may lead to frustration with a lack of emotion, sympathy, and personalization given fairly generic feedback. In addition to customer dissatisfaction with not reaching a human being, chatbots can be expensive to implement and maintain, especially if they must be customized and updated often.\n",
        "\"\"\"\n",
        "\n",
        "import nltk\n",
        "#télécharger le package punkt requis pour la tokenisation\n",
        "nltk.download('punkt')\n",
        "tokens = nltk.sent_tokenize(pdf_txt)\n",
        "for t in tokens:\n",
        "    print(t, \"\\n\")"
      ],
      "metadata": {
        "colab": {
          "base_uri": "https://localhost:8080/"
        },
        "id": "djkzA9_A7R9s",
        "outputId": "940e9e8b-76bf-4f5c-9496-06821133c81c"
      },
      "execution_count": null,
      "outputs": [
        {
          "output_type": "stream",
          "name": "stderr",
          "text": [
            "[nltk_data] Downloading package punkt to /root/nltk_data...\n",
            "[nltk_data]   Unzipping tokenizers/punkt.zip.\n"
          ]
        },
        {
          "output_type": "stream",
          "name": "stdout",
          "text": [
            "A chatbot is a computer program that simulates human conversation through voice commands or text chats or both. \n",
            "\n",
            "Chatbot, short for chatterbot, is an artificial intelligence (AI) feature that can be embedded and used through any major messaging application. \n",
            "\n",
            "There are a number of synonyms for chatbot, including \"talkbot,\" \"bot,\" \"IM bot,\" \"interactive agent\" or \"artificial conversation entity.\" \n",
            "\n",
            "The progressive advance of technology has seen an increase in businesses moving from traditional to digital platforms to transact with consumers. \n",
            "\n",
            "Convenience through technology is being carried out by businesses by implementing AI techniques on their digital platforms. \n",
            "\n",
            "One AI technique that is growing in its application and use is chatbots. \n",
            "\n",
            "Some examples of chatbot technology are virtual assistants like Amazon's Alexa and Google Assistant, and messaging apps, such as WeChat and Facebook's Messenger. \n",
            "\n",
            "A chatbot is an automated program that interacts with customers as a human would and costs little to nothing to engage with. \n",
            "\n",
            "Chatbots attend to customers at all times of the day and week and are not limited by time or a physical location. \n",
            "\n",
            "This makes its implementation appealing to a lot of businesses that may not have the manpower or financial resources to keep employees working around the clock. \n",
            "\n",
            "Chatbots are convenient for providing customer service and support 24 hours a day, 7 days a week. \n",
            "\n",
            "They also free up phone lines and are far less expensive over the long run than hiring people to perform support. \n",
            "\n",
            "Using AI and natural language processing, chatbots are becoming better at understanding what customers want and providing the help they need. \n",
            "\n",
            "Companies also like chatbots because they can collect data about customer queries, response times, satisfaction, and so on. \n",
            "\n",
            "Chatbots, however, are still limited. \n",
            "\n",
            "Even with natural language processing, they may not fully comprehend a customer's input and may provide incoherent answers. \n",
            "\n",
            "Many chatbots are also limited in the scope of queries that they are able to respond to. \n",
            "\n",
            "This may lead to frustration with a lack of emotion, sympathy, and personalization given fairly generic feedback. \n",
            "\n",
            "In addition to customer dissatisfaction with not reaching a human being, chatbots can be expensive to implement and maintain, especially if they must be customized and updated often. \n",
            "\n"
          ]
        }
      ]
    },
    {
      "cell_type": "code",
      "source": [
        "# Question de l'utilisateur\n",
        "user_question = \"what is the problem of the progressive advance of technology?\""
      ],
      "metadata": {
        "id": "fUnpu-2y7SBl"
      },
      "execution_count": null,
      "outputs": []
    },
    {
      "cell_type": "markdown",
      "source": [
        "Installer la bibliothèque Gensim.En effet, c'est une bibliothèque open source pour la modélisation de sujets non supervisée, l'indexation de documents, la récupération par similarité et d'autres fonctionnalités de traitement du langage naturel"
      ],
      "metadata": {
        "id": "bJgHzePWewe5"
      }
    },
    {
      "cell_type": "code",
      "source": [
        "pip install -U gensim"
      ],
      "metadata": {
        "colab": {
          "base_uri": "https://localhost:8080/"
        },
        "id": "uo6qz-1d7SDk",
        "outputId": "b3d2bb74-50d9-4dec-af6d-dd2afd0ee461"
      },
      "execution_count": null,
      "outputs": [
        {
          "output_type": "stream",
          "name": "stdout",
          "text": [
            "Looking in indexes: https://pypi.org/simple, https://us-python.pkg.dev/colab-wheels/public/simple/\n",
            "Requirement already satisfied: gensim in /usr/local/lib/python3.7/dist-packages (4.2.0)\n",
            "Requirement already satisfied: smart-open>=1.8.1 in /usr/local/lib/python3.7/dist-packages (from gensim) (5.2.1)\n",
            "Requirement already satisfied: scipy>=0.18.1 in /usr/local/lib/python3.7/dist-packages (from gensim) (1.7.3)\n",
            "Requirement already satisfied: numpy>=1.17.0 in /usr/local/lib/python3.7/dist-packages (from gensim) (1.21.6)\n"
          ]
        }
      ]
    },
    {
      "cell_type": "markdown",
      "source": [
        "l'utilisant de la bibliothèque Gensim de Python nous aide à supprimer les mots vides; Premiérement nous avons importé la méthode remove_stopwords() du gensim.analyse.module de prétraitement. Ensuite, nous devons passé la phrase dont nous souhaitons supprimer les mots vides, à la méthode remove_stopwords() qui renvoie la chaîne de texte sans les mots vides.\n",
        "Note:\n",
        "La méthode strip() s'agit de supprimer tous les caractères de début (espaces au début) et de fin (espaces à la fin). Ainsi la méthode lower() renvoie une chaîne où tous les caractères sont en minuscules, aussi les symboles et les chiffres sont ignorés."
      ],
      "metadata": {
        "id": "QESmS_OhgZOr"
      }
    },
    {
      "cell_type": "code",
      "source": [
        "import re\n",
        "import gensim\n",
        "from gensim.parsing.preprocessing import remove_stopwords\n",
        "\n",
        "def clean_sentence(sentence, stopwords=False):\n",
        "  sentence = sentence.lower().strip()\n",
        "  sentence = re.sub(r'[^a-z0-9\\s]', '', sentence)\n",
        "  if stopwords:\n",
        "    sentence = remove_stopwords(sentence)\n",
        "  return sentence\n",
        "\n",
        "def get_cleaned_sentences(tokens, stopwords=False):\n",
        "  cleaned_sentences = []\n",
        "  for row in tokens:\n",
        "    cleaned = clean_sentence(row, stopwords)\n",
        "    cleaned_sentences.append(cleaned)\n",
        "  return cleaned_sentences\n"
      ],
      "metadata": {
        "id": "tNxFW62O7kY2"
      },
      "execution_count": null,
      "outputs": []
    },
    {
      "cell_type": "markdown",
      "source": [
        "Pour bien comprendre le bon fonctionnement de la méthode prècédente nous avons affiché les phrases du texte avec et sans les mots vides "
      ],
      "metadata": {
        "id": "pkq2jZgYh3IC"
      }
    },
    {
      "cell_type": "code",
      "source": [
        "cleaned_sentences = get_cleaned_sentences(tokens, stopwords=True)\n",
        "cleaned_sentences_with_stopwords = get_cleaned_sentences(tokens, stopwords=False)\n",
        "print(user_question)\n",
        "print(cleaned_sentences)\n",
        "print(cleaned_sentences_with_stopwords)"
      ],
      "metadata": {
        "colab": {
          "base_uri": "https://localhost:8080/"
        },
        "id": "IoxzZg2I7kbM",
        "outputId": "0da4f46f-7e5d-4234-d4b5-26a58c096d9c"
      },
      "execution_count": null,
      "outputs": [
        {
          "output_type": "stream",
          "name": "stdout",
          "text": [
            "The important of chatbot\n",
            "['chatbot program simulates human conversation voice commands text chats', 'chatbot short chatterbot artificial intelligence ai feature embedded major messaging application', 'number synonyms chatbot including talkbot bot im bot interactive agent artificial conversation entity', 'progressive advance technology seen increase businesses moving traditional digital platforms transact consumers', 'convenience technology carried businesses implementing ai techniques digital platforms', 'ai technique growing application use chatbots', 'examples chatbot technology virtual assistants like amazons alexa google assistant messaging apps wechat facebooks messenger', 'chatbot automated program interacts customers human costs little engage', 'chatbots attend customers times day week limited time physical location', 'makes implementation appealing lot businesses manpower financial resources employees working clock', 'chatbots convenient providing customer service support 24 hours day 7 days week', 'free phone lines far expensive long run hiring people perform support', 'ai natural language processing chatbots better understanding customers want providing help need', 'companies like chatbots collect data customer queries response times satisfaction', 'chatbots limited', 'natural language processing fully comprehend customers input provide incoherent answers', 'chatbots limited scope queries able respond', 'lead frustration lack emotion sympathy personalization given fairly generic feedback', 'addition customer dissatisfaction reaching human chatbots expensive implement maintain especially customized updated']\n",
            "['a chatbot is a computer program that simulates human conversation through voice commands or text chats or both', 'chatbot short for chatterbot is an artificial intelligence ai feature that can be embedded and used through any major messaging application', 'there are a number of synonyms for chatbot including talkbot bot im bot interactive agent or artificial conversation entity', 'the progressive advance of technology has seen an increase in businesses moving from traditional to digital platforms to transact with consumers', 'convenience through technology is being carried out by businesses by implementing ai techniques on their digital platforms', 'one ai technique that is growing in its application and use is chatbots', 'some examples of chatbot technology are virtual assistants like amazons alexa and google assistant and messaging apps such as wechat and facebooks messenger', 'a chatbot is an automated program that interacts with customers as a human would and costs little to nothing to engage with', 'chatbots attend to customers at all times of the day and week and are not limited by time or a physical location', 'this makes its implementation appealing to a lot of businesses that may not have the manpower or financial resources to keep employees working around the clock', 'chatbots are convenient for providing customer service and support 24 hours a day 7 days a week', 'they also free up phone lines and are far less expensive over the long run than hiring people to perform support', 'using ai and natural language processing chatbots are becoming better at understanding what customers want and providing the help they need', 'companies also like chatbots because they can collect data about customer queries response times satisfaction and so on', 'chatbots however are still limited', 'even with natural language processing they may not fully comprehend a customers input and may provide incoherent answers', 'many chatbots are also limited in the scope of queries that they are able to respond to', 'this may lead to frustration with a lack of emotion sympathy and personalization given fairly generic feedback', 'in addition to customer dissatisfaction with not reaching a human being chatbots can be expensive to implement and maintain especially if they must be customized and updated often']\n"
          ]
        }
      ]
    },
    {
      "cell_type": "markdown",
      "source": [
        "Créer un dictionnaire "
      ],
      "metadata": {
        "id": "wm4Kgv_Ck4Ui"
      }
    },
    {
      "cell_type": "code",
      "source": [
        "import numpy\n",
        "sentences = cleaned_sentences_with_stopwords\n",
        "sentence_words = [[word for word in document.split()]\n",
        "                  for document in sentences]\n",
        "\n",
        "from gensim import corpora\n",
        "dictionary = corpora.Dictionary(sentence_words)\n",
        "for key, value in dictionary.items():\n",
        "  print(key, ' : ', value)"
      ],
      "metadata": {
        "colab": {
          "base_uri": "https://localhost:8080/"
        },
        "id": "c655f3iT7kds",
        "outputId": "0f5446f4-42b8-4c42-b47a-89429108b099"
      },
      "execution_count": null,
      "outputs": [
        {
          "output_type": "stream",
          "name": "stdout",
          "text": [
            "0  :  a\n",
            "1  :  both\n",
            "2  :  chatbot\n",
            "3  :  chats\n",
            "4  :  commands\n",
            "5  :  computer\n",
            "6  :  conversation\n",
            "7  :  human\n",
            "8  :  is\n",
            "9  :  or\n",
            "10  :  program\n",
            "11  :  simulates\n",
            "12  :  text\n",
            "13  :  that\n",
            "14  :  through\n",
            "15  :  voice\n",
            "16  :  ai\n",
            "17  :  an\n",
            "18  :  and\n",
            "19  :  any\n",
            "20  :  application\n",
            "21  :  artificial\n",
            "22  :  be\n",
            "23  :  can\n",
            "24  :  chatterbot\n",
            "25  :  embedded\n",
            "26  :  feature\n",
            "27  :  for\n",
            "28  :  intelligence\n",
            "29  :  major\n",
            "30  :  messaging\n",
            "31  :  short\n",
            "32  :  used\n",
            "33  :  agent\n",
            "34  :  are\n",
            "35  :  bot\n",
            "36  :  entity\n",
            "37  :  im\n",
            "38  :  including\n",
            "39  :  interactive\n",
            "40  :  number\n",
            "41  :  of\n",
            "42  :  synonyms\n",
            "43  :  talkbot\n",
            "44  :  there\n",
            "45  :  advance\n",
            "46  :  businesses\n",
            "47  :  consumers\n",
            "48  :  digital\n",
            "49  :  from\n",
            "50  :  has\n",
            "51  :  in\n",
            "52  :  increase\n",
            "53  :  moving\n",
            "54  :  platforms\n",
            "55  :  progressive\n",
            "56  :  seen\n",
            "57  :  technology\n",
            "58  :  the\n",
            "59  :  to\n",
            "60  :  traditional\n",
            "61  :  transact\n",
            "62  :  with\n",
            "63  :  being\n",
            "64  :  by\n",
            "65  :  carried\n",
            "66  :  convenience\n",
            "67  :  implementing\n",
            "68  :  on\n",
            "69  :  out\n",
            "70  :  techniques\n",
            "71  :  their\n",
            "72  :  chatbots\n",
            "73  :  growing\n",
            "74  :  its\n",
            "75  :  one\n",
            "76  :  technique\n",
            "77  :  use\n",
            "78  :  alexa\n",
            "79  :  amazons\n",
            "80  :  apps\n",
            "81  :  as\n",
            "82  :  assistant\n",
            "83  :  assistants\n",
            "84  :  examples\n",
            "85  :  facebooks\n",
            "86  :  google\n",
            "87  :  like\n",
            "88  :  messenger\n",
            "89  :  some\n",
            "90  :  such\n",
            "91  :  virtual\n",
            "92  :  wechat\n",
            "93  :  automated\n",
            "94  :  costs\n",
            "95  :  customers\n",
            "96  :  engage\n",
            "97  :  interacts\n",
            "98  :  little\n",
            "99  :  nothing\n",
            "100  :  would\n",
            "101  :  all\n",
            "102  :  at\n",
            "103  :  attend\n",
            "104  :  day\n",
            "105  :  limited\n",
            "106  :  location\n",
            "107  :  not\n",
            "108  :  physical\n",
            "109  :  time\n",
            "110  :  times\n",
            "111  :  week\n",
            "112  :  appealing\n",
            "113  :  around\n",
            "114  :  clock\n",
            "115  :  employees\n",
            "116  :  financial\n",
            "117  :  have\n",
            "118  :  implementation\n",
            "119  :  keep\n",
            "120  :  lot\n",
            "121  :  makes\n",
            "122  :  manpower\n",
            "123  :  may\n",
            "124  :  resources\n",
            "125  :  this\n",
            "126  :  working\n",
            "127  :  24\n",
            "128  :  7\n",
            "129  :  convenient\n",
            "130  :  customer\n",
            "131  :  days\n",
            "132  :  hours\n",
            "133  :  providing\n",
            "134  :  service\n",
            "135  :  support\n",
            "136  :  also\n",
            "137  :  expensive\n",
            "138  :  far\n",
            "139  :  free\n",
            "140  :  hiring\n",
            "141  :  less\n",
            "142  :  lines\n",
            "143  :  long\n",
            "144  :  over\n",
            "145  :  people\n",
            "146  :  perform\n",
            "147  :  phone\n",
            "148  :  run\n",
            "149  :  than\n",
            "150  :  they\n",
            "151  :  up\n",
            "152  :  becoming\n",
            "153  :  better\n",
            "154  :  help\n",
            "155  :  language\n",
            "156  :  natural\n",
            "157  :  need\n",
            "158  :  processing\n",
            "159  :  understanding\n",
            "160  :  using\n",
            "161  :  want\n",
            "162  :  what\n",
            "163  :  about\n",
            "164  :  because\n",
            "165  :  collect\n",
            "166  :  companies\n",
            "167  :  data\n",
            "168  :  queries\n",
            "169  :  response\n",
            "170  :  satisfaction\n",
            "171  :  so\n",
            "172  :  however\n",
            "173  :  still\n",
            "174  :  answers\n",
            "175  :  comprehend\n",
            "176  :  even\n",
            "177  :  fully\n",
            "178  :  incoherent\n",
            "179  :  input\n",
            "180  :  provide\n",
            "181  :  able\n",
            "182  :  many\n",
            "183  :  respond\n",
            "184  :  scope\n",
            "185  :  emotion\n",
            "186  :  fairly\n",
            "187  :  feedback\n",
            "188  :  frustration\n",
            "189  :  generic\n",
            "190  :  given\n",
            "191  :  lack\n",
            "192  :  lead\n",
            "193  :  personalization\n",
            "194  :  sympathy\n",
            "195  :  addition\n",
            "196  :  customized\n",
            "197  :  dissatisfaction\n",
            "198  :  especially\n",
            "199  :  if\n",
            "200  :  implement\n",
            "201  :  maintain\n",
            "202  :  must\n",
            "203  :  often\n",
            "204  :  reaching\n",
            "205  :  updated\n"
          ]
        }
      ]
    },
    {
      "cell_type": "markdown",
      "source": [
        "Créer un corpus du document texte en passant la liste de mots tokenisée à l'objet nommé Dictionary.doc2bow(). Après on affiche les mots avec les vecteurs corespondants"
      ],
      "metadata": {
        "id": "U91G2pKuoUhp"
      }
    },
    {
      "cell_type": "code",
      "source": [
        "import pprint\n",
        "bow_corpus = [dictionary.doc2bow(text) for text in sentence_words]\n",
        "for sent, embedding in zip(sentences, bow_corpus):\n",
        "  print(sent)\n",
        "  print(embedding)"
      ],
      "metadata": {
        "colab": {
          "base_uri": "https://localhost:8080/"
        },
        "id": "s97ajn697kgM",
        "outputId": "9da66326-8935-47a9-fe37-e3e40d1f1069"
      },
      "execution_count": null,
      "outputs": [
        {
          "output_type": "stream",
          "name": "stdout",
          "text": [
            "a chatbot is a computer program that simulates human conversation through voice commands or text chats or both\n",
            "[(0, 2), (1, 1), (2, 1), (3, 1), (4, 1), (5, 1), (6, 1), (7, 1), (8, 1), (9, 2), (10, 1), (11, 1), (12, 1), (13, 1), (14, 1), (15, 1)]\n",
            "chatbot short for chatterbot is an artificial intelligence ai feature that can be embedded and used through any major messaging application\n",
            "[(2, 1), (8, 1), (13, 1), (14, 1), (16, 1), (17, 1), (18, 1), (19, 1), (20, 1), (21, 1), (22, 1), (23, 1), (24, 1), (25, 1), (26, 1), (27, 1), (28, 1), (29, 1), (30, 1), (31, 1), (32, 1)]\n",
            "there are a number of synonyms for chatbot including talkbot bot im bot interactive agent or artificial conversation entity\n",
            "[(0, 1), (2, 1), (6, 1), (9, 1), (21, 1), (27, 1), (33, 1), (34, 1), (35, 2), (36, 1), (37, 1), (38, 1), (39, 1), (40, 1), (41, 1), (42, 1), (43, 1), (44, 1)]\n",
            "the progressive advance of technology has seen an increase in businesses moving from traditional to digital platforms to transact with consumers\n",
            "[(17, 1), (41, 1), (45, 1), (46, 1), (47, 1), (48, 1), (49, 1), (50, 1), (51, 1), (52, 1), (53, 1), (54, 1), (55, 1), (56, 1), (57, 1), (58, 1), (59, 2), (60, 1), (61, 1), (62, 1)]\n",
            "convenience through technology is being carried out by businesses by implementing ai techniques on their digital platforms\n",
            "[(8, 1), (14, 1), (16, 1), (46, 1), (48, 1), (54, 1), (57, 1), (63, 1), (64, 2), (65, 1), (66, 1), (67, 1), (68, 1), (69, 1), (70, 1), (71, 1)]\n",
            "one ai technique that is growing in its application and use is chatbots\n",
            "[(8, 2), (13, 1), (16, 1), (18, 1), (20, 1), (51, 1), (72, 1), (73, 1), (74, 1), (75, 1), (76, 1), (77, 1)]\n",
            "some examples of chatbot technology are virtual assistants like amazons alexa and google assistant and messaging apps such as wechat and facebooks messenger\n",
            "[(2, 1), (18, 3), (30, 1), (34, 1), (41, 1), (57, 1), (78, 1), (79, 1), (80, 1), (81, 1), (82, 1), (83, 1), (84, 1), (85, 1), (86, 1), (87, 1), (88, 1), (89, 1), (90, 1), (91, 1), (92, 1)]\n",
            "a chatbot is an automated program that interacts with customers as a human would and costs little to nothing to engage with\n",
            "[(0, 2), (2, 1), (7, 1), (8, 1), (10, 1), (13, 1), (17, 1), (18, 1), (59, 2), (62, 2), (81, 1), (93, 1), (94, 1), (95, 1), (96, 1), (97, 1), (98, 1), (99, 1), (100, 1)]\n",
            "chatbots attend to customers at all times of the day and week and are not limited by time or a physical location\n",
            "[(0, 1), (9, 1), (18, 2), (34, 1), (41, 1), (58, 1), (59, 1), (64, 1), (72, 1), (95, 1), (101, 1), (102, 1), (103, 1), (104, 1), (105, 1), (106, 1), (107, 1), (108, 1), (109, 1), (110, 1), (111, 1)]\n",
            "this makes its implementation appealing to a lot of businesses that may not have the manpower or financial resources to keep employees working around the clock\n",
            "[(0, 1), (9, 1), (13, 1), (41, 1), (46, 1), (58, 2), (59, 2), (74, 1), (107, 1), (112, 1), (113, 1), (114, 1), (115, 1), (116, 1), (117, 1), (118, 1), (119, 1), (120, 1), (121, 1), (122, 1), (123, 1), (124, 1), (125, 1), (126, 1)]\n",
            "chatbots are convenient for providing customer service and support 24 hours a day 7 days a week\n",
            "[(0, 2), (18, 1), (27, 1), (34, 1), (72, 1), (104, 1), (111, 1), (127, 1), (128, 1), (129, 1), (130, 1), (131, 1), (132, 1), (133, 1), (134, 1), (135, 1)]\n",
            "they also free up phone lines and are far less expensive over the long run than hiring people to perform support\n",
            "[(18, 1), (34, 1), (58, 1), (59, 1), (135, 1), (136, 1), (137, 1), (138, 1), (139, 1), (140, 1), (141, 1), (142, 1), (143, 1), (144, 1), (145, 1), (146, 1), (147, 1), (148, 1), (149, 1), (150, 1), (151, 1)]\n",
            "using ai and natural language processing chatbots are becoming better at understanding what customers want and providing the help they need\n",
            "[(16, 1), (18, 2), (34, 1), (58, 1), (72, 1), (95, 1), (102, 1), (133, 1), (150, 1), (152, 1), (153, 1), (154, 1), (155, 1), (156, 1), (157, 1), (158, 1), (159, 1), (160, 1), (161, 1), (162, 1)]\n",
            "companies also like chatbots because they can collect data about customer queries response times satisfaction and so on\n",
            "[(18, 1), (23, 1), (68, 1), (72, 1), (87, 1), (110, 1), (130, 1), (136, 1), (150, 1), (163, 1), (164, 1), (165, 1), (166, 1), (167, 1), (168, 1), (169, 1), (170, 1), (171, 1)]\n",
            "chatbots however are still limited\n",
            "[(34, 1), (72, 1), (105, 1), (172, 1), (173, 1)]\n",
            "even with natural language processing they may not fully comprehend a customers input and may provide incoherent answers\n",
            "[(0, 1), (18, 1), (62, 1), (95, 1), (107, 1), (123, 2), (150, 1), (155, 1), (156, 1), (158, 1), (174, 1), (175, 1), (176, 1), (177, 1), (178, 1), (179, 1), (180, 1)]\n",
            "many chatbots are also limited in the scope of queries that they are able to respond to\n",
            "[(13, 1), (34, 2), (41, 1), (51, 1), (58, 1), (59, 2), (72, 1), (105, 1), (136, 1), (150, 1), (168, 1), (181, 1), (182, 1), (183, 1), (184, 1)]\n",
            "this may lead to frustration with a lack of emotion sympathy and personalization given fairly generic feedback\n",
            "[(0, 1), (18, 1), (41, 1), (59, 1), (62, 1), (123, 1), (125, 1), (185, 1), (186, 1), (187, 1), (188, 1), (189, 1), (190, 1), (191, 1), (192, 1), (193, 1), (194, 1)]\n",
            "in addition to customer dissatisfaction with not reaching a human being chatbots can be expensive to implement and maintain especially if they must be customized and updated often\n",
            "[(0, 1), (7, 1), (18, 2), (22, 2), (23, 1), (51, 1), (59, 2), (62, 1), (63, 1), (72, 1), (107, 1), (130, 1), (137, 1), (150, 1), (195, 1), (196, 1), (197, 1), (198, 1), (199, 1), (200, 1), (201, 1), (202, 1), (203, 1), (204, 1), (205, 1)]\n"
          ]
        }
      ]
    },
    {
      "cell_type": "code",
      "source": [
        "question = \"what is the problem of the progressive advance of technology?\""
      ],
      "metadata": {
        "id": "qmFTrDbO7kjk"
      },
      "execution_count": null,
      "outputs": []
    },
    {
      "cell_type": "markdown",
      "source": [
        "Transformer la question aussi à des vecteurs corrspondants"
      ],
      "metadata": {
        "id": "7t9Dn3SOpDQw"
      }
    },
    {
      "cell_type": "code",
      "source": [
        "question = clean_sentence(question, stopwords=False)\n",
        "question_embedding = dictionary.doc2bow(question.split())\n",
        "print(question, \"\\n\", question_embedding)"
      ],
      "metadata": {
        "colab": {
          "base_uri": "https://localhost:8080/"
        },
        "id": "5cDwXYCR7ub-",
        "outputId": "7ccf1853-674d-4733-9ff0-27e547b1f882"
      },
      "execution_count": null,
      "outputs": [
        {
          "output_type": "stream",
          "name": "stdout",
          "text": [
            "what is the problem of the progressive advance of technology \n",
            " [(8, 1), (41, 2), (45, 1), (55, 1), (57, 1), (58, 2), (162, 1)]\n"
          ]
        }
      ]
    },
    {
      "cell_type": "markdown",
      "source": [
        "La similarité entre la question et la réponse est mesurée à l'aide de la similarité cosinus. Calculer la similarité entre deux vecteurs(les vecteurs de la question et les vecteurs de la réponses).Ce sera une valeur entre [0,1]. Si c'est 0 alors les deux vecteurs sont complètement différents. Mais à la place de cela, si c'est 1, ce sera complètement similaire.  \"la similarité comparer la distance entre les mots\""
      ],
      "metadata": {
        "id": "u8LEwucQRUdl"
      }
    },
    {
      "cell_type": "code",
      "source": [
        "import sklearn\n",
        "from sklearn.metrics.pairwise import cosine_similarity\n",
        "\n",
        "def retrieveAndPrintFAQAnswer(question_embedding, sentence_embeddings, sentences):\n",
        "  max_sim = -1\n",
        "  index_sim = -1\n",
        "  for index, embedding in enumerate(sentence_embeddings):\n",
        "    sim = cosine_similarity(embedding, question_embedding)[0][0]\n",
        "    print(index, sim, sentences[index])\n",
        "    if sim > max_sim:\n",
        "      max_sim = sim\n",
        "      index_sim = index\n",
        "  \n",
        "  return index_sim\n",
        "index = retrieveAndPrintFAQAnswer(question_embedding, bow_corpus, sentences)  "
      ],
      "metadata": {
        "colab": {
          "base_uri": "https://localhost:8080/"
        },
        "id": "ITLr2LlD7ueW",
        "outputId": "875aa2c2-0e17-4b4d-be3a-f84d71727992"
      },
      "execution_count": null,
      "outputs": [
        {
          "output_type": "stream",
          "name": "stdout",
          "text": [
            "0 0.12403473458920847 a chatbot is a computer program that simulates human conversation through voice commands or text chats or both\n",
            "1 0.9429903335828896 chatbot short for chatterbot is an artificial intelligence ai feature that can be embedded and used through any major messaging application\n",
            "2 0.12403473458920847 there are a number of synonyms for chatbot including talkbot bot im bot interactive agent or artificial conversation entity\n",
            "3 0.9978491457990447 the progressive advance of technology has seen an increase in businesses moving from traditional to digital platforms to transact with consumers\n",
            "4 1.0000000000000002 convenience through technology is being carried out by businesses by implementing ai techniques on their digital platforms\n",
            "5 0.9927337820337083 one ai technique that is growing in its application and use is chatbots\n",
            "6 0.9429903335828896 some examples of chatbot technology are virtual assistants like amazons alexa and google assistant and messaging apps such as wechat and facebooks messenger\n",
            "7 0.12403473458920847 a chatbot is an automated program that interacts with customers as a human would and costs little to nothing to engage with\n",
            "8 0.12403473458920847 chatbots attend to customers at all times of the day and week and are not limited by time or a physical location\n",
            "9 0.12403473458920847 this makes its implementation appealing to a lot of businesses that may not have the manpower or financial resources to keep employees working around the clock\n",
            "10 0.12403473458920847 chatbots are convenient for providing customer service and support 24 hours a day 7 days a week\n",
            "11 0.9976303284229833 they also free up phone lines and are far less expensive over the long run than hiring people to perform support\n",
            "12 0.9980825675929894 using ai and natural language processing chatbots are becoming better at understanding what customers want and providing the help they need\n",
            "13 0.9976303284229833 companies also like chatbots because they can collect data about customer queries response times satisfaction and so on\n",
            "14 0.9954954725939521 chatbots however are still limited\n",
            "15 0.12403473458920847 even with natural language processing they may not fully comprehend a customers input and may provide incoherent answers\n",
            "16 0.9988681377244376 many chatbots are also limited in the scope of queries that they are able to respond to\n",
            "17 0.12403473458920847 this may lead to frustration with a lack of emotion sympathy and personalization given fairly generic feedback\n",
            "18 0.12403473458920847 in addition to customer dissatisfaction with not reaching a human being chatbots can be expensive to implement and maintain especially if they must be customized and updated often\n"
          ]
        }
      ]
    },
    {
      "cell_type": "code",
      "source": [
        "print(\"Question: \", question)\n",
        "print(\"Answer: \", sentences[index])"
      ],
      "metadata": {
        "colab": {
          "base_uri": "https://localhost:8080/"
        },
        "id": "Y2Z8NdHk7ujt",
        "outputId": "0106eb41-f2d0-451b-d328-4e8c0e4a810a"
      },
      "execution_count": null,
      "outputs": [
        {
          "output_type": "stream",
          "name": "stdout",
          "text": [
            "Question:  what is the problem of the progressive advance of technology\n",
            "Answer:  convenience through technology is being carried out by businesses by implementing ai techniques on their digital platforms\n"
          ]
        }
      ]
    },
    {
      "cell_type": "markdown",
      "source": [
        "***Utilisation de l'approche du modèle Word2Vec***\n",
        "\n",
        "Dans ces approches, nous prenons en entrée des mots de corpus volumineux et produisons un espace vectoriel, généralement de plusieurs centaines de dimensions, chaque mot unique du corpus se voyant attribuer un vecteur correspondant dans l'espace.\n",
        "\n",
        "Les vecteurs de mots sont positionnés dans l'espace vectoriel de sorte que les mots qui partagent des contextes communs dans le corpus soient situés à proximité les uns des autres dans l'espace. Word2Vec est un modèle prédictif particulièrement efficace sur le plan informatique pour apprendre les incorporations de mots à partir de texte brut.\n",
        "\n"
      ],
      "metadata": {
        "id": "wy6yHaWPRfwe"
      }
    },
    {
      "cell_type": "markdown",
      "source": [
        "Importation du modèle Word2Vec"
      ],
      "metadata": {
        "id": "O41ypfhCr2Bz"
      }
    },
    {
      "cell_type": "code",
      "source": [
        "from gensim.models import Word2Vec\n",
        "import gensim.downloader as api\n",
        "\n",
        "v2w_model = None\n",
        "try:\n",
        "  v2w_model = gensim.models.Keyedvectors.load('./w2vecmodel.mod')\n",
        "  print(\"w2v Model Successfully loaded\")\n",
        "except:\n",
        "  v2w_model = api.load('word2vec-google-news-300')\n",
        "  v2w_model.save(\"./w2vecmodel.mod\")\n",
        "  print(\"w2v Model Saved\")\n",
        "\n",
        "w2vec_embedding_size = len(v2w_model['pc'])  "
      ],
      "metadata": {
        "id": "PvP8lKpP7ums",
        "colab": {
          "base_uri": "https://localhost:8080/"
        },
        "outputId": "c01f01ac-4876-402d-b55c-c44eb4a1c59d"
      },
      "execution_count": null,
      "outputs": [
        {
          "output_type": "stream",
          "name": "stdout",
          "text": [
            "w2v Model Saved\n"
          ]
        }
      ]
    },
    {
      "cell_type": "code",
      "source": [
        "def getWordVec(word, model):\n",
        "  samp = model['pc']\n",
        "  vec = [0]*len(samp)\n",
        "  try:\n",
        "    vec = model[word]\n",
        "  except:\n",
        "    vec = [0]*len(samp)\n",
        "  return (vec)\n",
        "\n",
        "\n",
        "def getPhraseEmbedding(phrase, embeddingmodel):\n",
        "  samp = getWordVec('computer', embeddingmodel)\n",
        "  vec = numpy.array([0]*len(samp))\n",
        "  den = 0;\n",
        "  for word in phrase.split():\n",
        "    den = den+1\n",
        "    vec = vec+numpy.array(getWordVec(word, embeddingmodel))\n",
        "  return vec.reshape(1, -1)"
      ],
      "metadata": {
        "id": "DrKfuG3N7k7N"
      },
      "execution_count": null,
      "outputs": []
    },
    {
      "cell_type": "code",
      "source": [
        "sent_embeddings = []\n",
        "for sent in sentences:\n",
        "  sent_embeddings.append(getPhraseEmbedding(sent, v2w_model))\n",
        "\n",
        "question_embedding = getPhraseEmbedding(question, v2w_model)\n",
        "index = retrieveAndPrintFAQAnswer(question_embedding, sent_embeddings, cleaned_sentences_with_stopwords)"
      ],
      "metadata": {
        "colab": {
          "base_uri": "https://localhost:8080/"
        },
        "id": "17buu9jaRrcs",
        "outputId": "7a7fa08c-deca-4daf-9ab9-a8ce1b9f9cb0"
      },
      "execution_count": null,
      "outputs": [
        {
          "output_type": "stream",
          "name": "stdout",
          "text": [
            "0 0.4828261891478784 a chatbot is a computer program that simulates human conversation through voice commands or text chats or both\n",
            "1 0.6198066378944211 chatbot short for chatterbot is an artificial intelligence ai feature that can be embedded and used through any major messaging application\n",
            "2 0.45396607740921263 there are a number of synonyms for chatbot including talkbot bot im bot interactive agent or artificial conversation entity\n",
            "3 0.6938149188576275 the progressive advance of technology has seen an increase in businesses moving from traditional to digital platforms to transact with consumers\n",
            "4 0.6010125213453071 convenience through technology is being carried out by businesses by implementing ai techniques on their digital platforms\n",
            "5 0.67746701716375 one ai technique that is growing in its application and use is chatbots\n",
            "6 0.4388872695014064 some examples of chatbot technology are virtual assistants like amazons alexa and google assistant and messaging apps such as wechat and facebooks messenger\n",
            "7 0.6588712239899279 a chatbot is an automated program that interacts with customers as a human would and costs little to nothing to engage with\n",
            "8 0.5758033047352782 chatbots attend to customers at all times of the day and week and are not limited by time or a physical location\n",
            "9 0.6429529020666277 this makes its implementation appealing to a lot of businesses that may not have the manpower or financial resources to keep employees working around the clock\n",
            "10 0.4751359070241139 chatbots are convenient for providing customer service and support 24 hours a day 7 days a week\n",
            "11 0.582638336777735 they also free up phone lines and are far less expensive over the long run than hiring people to perform support\n",
            "12 0.6274759189277104 using ai and natural language processing chatbots are becoming better at understanding what customers want and providing the help they need\n",
            "13 0.5483323181988462 companies also like chatbots because they can collect data about customer queries response times satisfaction and so on\n",
            "14 0.5279804089137773 chatbots however are still limited\n",
            "15 0.5701596515437853 even with natural language processing they may not fully comprehend a customers input and may provide incoherent answers\n",
            "16 0.6091157359548378 many chatbots are also limited in the scope of queries that they are able to respond to\n",
            "17 0.4899504014706051 this may lead to frustration with a lack of emotion sympathy and personalization given fairly generic feedback\n",
            "18 0.6387106572303132 in addition to customer dissatisfaction with not reaching a human being chatbots can be expensive to implement and maintain especially if they must be customized and updated often\n"
          ]
        }
      ]
    },
    {
      "cell_type": "code",
      "source": [
        "print(\"Question: \", question)\n",
        "print(\"Answer: \", cleaned_sentences_with_stopwords[index])"
      ],
      "metadata": {
        "colab": {
          "base_uri": "https://localhost:8080/"
        },
        "id": "ekoEzqwARrjW",
        "outputId": "9a05141f-0448-4bf6-80dd-3bf5d817f529"
      },
      "execution_count": null,
      "outputs": [
        {
          "output_type": "stream",
          "name": "stdout",
          "text": [
            "Question:  what is the problem of the progressive advance of technology\n",
            "Answer:  the progressive advance of technology has seen an increase in businesses moving from traditional to digital platforms to transact with consumers\n"
          ]
        }
      ]
    },
    {
      "cell_type": "markdown",
      "source": [
        "Conclusion:\n",
        "1.Word Embedding est un type de représentation de mots qui permet aux mots ayant une signification similaire d'être compris par des algorithmes d'apprentissage automatique.\n",
        "2.Word Embedding est utilisée pour calculer des mots similaires, créer un groupe de mots liés, fonctionnalité de classification de texte, regroupement de documents, traitement du langage naturel.\n",
        "3.Word2vec est un modèle de réseau neuronal peu profond à deux couches pour produire des incorporations de mots pour une meilleure représentation des mots.\n",
        "4.Word2vec représente des mots dans la représentation de l'espace vectoriel. Les mots sont représentés sous forme de vecteurs et le placement est fait de telle manière que les mots de sens similaire apparaissent ensemble et les mots différents sont situés loin.\n",
        "5.L'algorithme Word2vec utilise 2 architectures Continuous Bag of words (CBOW) et skip gram.\n",
        "6.CBOW est plusieurs fois plus rapide que le saut de gramme et fournit une meilleure fréquence pour les mots fréquents, tandis que le saut de gramme nécessite une petite quantité de données d'entraînement et représente même des mots ou des phrases rares.\n",
        "7.NLTK et Word2vec peuvent être utilisés ensemble pour créer des applications puissantes\n",
        "La fonction d'activation du neurone définit la sortie de ce neurone compte tenu d'un ensemble d'entrées."
      ],
      "metadata": {
        "id": "vNi0ReLKucqA"
      }
    }
  ]
}